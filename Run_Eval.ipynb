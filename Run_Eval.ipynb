{
 "cells": [
  {
   "cell_type": "code",
   "execution_count": null,
   "id": "d49c1c98",
   "metadata": {},
   "outputs": [],
   "source": [
    "import numpy as np\n",
    "import torch\n",
    "import matplotlib.pyplot as plt\n",
    "from os.path import join\n",
    "from util import utils\n",
    "import sklearn.metrics\n",
    "\n",
    "\n",
    "path = '' # Path to Directory to be evaluated  "
   ]
  },
  {
   "cell_type": "markdown",
   "id": "34e13236",
   "metadata": {},
   "source": [
    "Metrics:\n",
    "- Durchschnittliche Performance (Insgesamt | Baseline | Transformer) \n",
    "- Absteigende Sortierung der Configs (Accuracy: Modelltyp | Fenstergröße | Normalisierung | Split_Type)\n",
    "- "
   ]
  }
 ],
 "metadata": {
  "kernelspec": {
   "display_name": "Python 3 (ipykernel)",
   "language": "python",
   "name": "python3"
  },
  "language_info": {
   "codemirror_mode": {
    "name": "ipython",
    "version": 3
   },
   "file_extension": ".py",
   "mimetype": "text/x-python",
   "name": "python",
   "nbconvert_exporter": "python",
   "pygments_lexer": "ipython3",
   "version": "3.8.10"
  }
 },
 "nbformat": 4,
 "nbformat_minor": 5
}
